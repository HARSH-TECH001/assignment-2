{
 "cells": [
  {
   "cell_type": "markdown",
   "id": "52dff4b6-21d7-4231-9993-bd82cfdea4ee",
   "metadata": {},
   "source": [
    "Theory question and answer"
   ]
  },
  {
   "cell_type": "markdown",
   "id": "8e3a2b93-6306-4469-9775-c529009bb0ae",
   "metadata": {},
   "source": [
    "1)What are data structures, and why are they important?\n",
    "answer:- Data structures are ways to store and organize data. They help us work with data easily and make programs faster."
   ]
  },
  {
   "cell_type": "markdown",
   "id": "d13af2cd-b4fb-4829-afdb-f18a52bba326",
   "metadata": {},
   "source": [
    "2)Difference between mutable and immutable data types with examples?\n",
    "\n",
    "answer:- Mutable means we can change the value (like lists).\n",
    "         Immutable means we cannot change the value (like strings or tuples).\n",
    "         Example: list = [1, 2] (mutable), tuple = (1, 2) (immutable)"
   ]
  },
  {
   "cell_type": "markdown",
   "id": "aebcf461-d693-4db0-8ce1-a88f160705bf",
   "metadata": {},
   "source": [
    "3)Lists vs Tuples in Python?\n",
    "Answer:- Lists can change (mutable), tuples cannot (immutable).\n",
    "         Lists use [], tuples use ()."
   ]
  },
  {
   "cell_type": "markdown",
   "id": "19e0f265-9232-42b5-8e4f-324101a1e6ae",
   "metadata": {},
   "source": [
    "4)How dictionaries store data?\n",
    "answer:- They store data in key-value pairs. Each key points to a value."
   ]
  },
  {
   "cell_type": "markdown",
   "id": "89d31112-62cf-49b9-88ac-cba442cf4640",
   "metadata": {},
   "source": [
    "5)Why use a set instead of a list?\n",
    "answer:-Sets don’t allow duplicates and are faster for checking if an item is there"
   ]
  },
  {
   "cell_type": "markdown",
   "id": "4c999cd0-9a6a-472e-ab6a-cb3a39f8d113",
   "metadata": {},
   "source": [
    "6)What is a string in Python, and how is it different from a list?\n",
    "answer:-A string is a group of characters. It is immutable. A list can hold different data types and is mutable."
   ]
  },
  {
   "cell_type": "markdown",
   "id": "d4426690-b141-43a9-9ba5-a691b7b769ce",
   "metadata": {},
   "source": [
    "7)How do tuples ensure data integrity?\n",
    "answer:-Since tuples can’t be changed, the data stays safe and fixed.\n"
   ]
  },
  {
   "cell_type": "markdown",
   "id": "2b878df5-5a91-4036-a123-2609cd49ae31",
   "metadata": {},
   "source": [
    "8)How do tuples ensure data integrity?\n",
    "answer:- Since tuples can’t be changed, the data stays safe and fixed.\n"
   ]
  },
  {
   "cell_type": "markdown",
   "id": "c782965c-1da2-4df8-950a-69566db5502d",
   "metadata": {},
   "source": [
    "9)Can lists have different data types?\n",
    "answer:-Yes, lists can have numbers, strings, etc., all in one list."
   ]
  },
  {
   "cell_type": "markdown",
   "id": "eddf5c3a-a2f6-4b54-b0e1-56a00fbc4256",
   "metadata": {},
   "source": [
    "10)Why are strings immutable in Python?\n",
    "answer:- So that they don’t change by mistake. This also helps make the program faster and safer."
   ]
  },
  {
   "cell_type": "markdown",
   "id": "f1809b17-e17a-42ee-a2fd-81fca4ea0fcb",
   "metadata": {},
   "source": [
    "11)Advantages of dictionaries over lists?\n",
    "answer:- Dictionaries are better for looking up values using a key, which is faster than searching in a list.\n",
    "\n"
   ]
  },
  {
   "cell_type": "markdown",
   "id": "4bc58ba7-1fe7-46c8-9b59-36efaa315021",
   "metadata": {},
   "source": [
    "12)When to use a tuple instead of a list:\n",
    "answer:-When you don’t want the data to change, like fixed coordinates"
   ]
  },
  {
   "cell_type": "markdown",
   "id": "e5022248-7c65-4f0f-8c09-5faa0ad1d236",
   "metadata": {},
   "source": [
    "13)How do sets handle duplicates?\n",
    "answer:-Sets automatically remove duplicates. Only unique items are stored."
   ]
  },
  {
   "cell_type": "markdown",
   "id": "5374561f-31af-44a3-9ca6-cee7aa3e9fcf",
   "metadata": {},
   "source": [
    "14)How “in” works in lists vs dictionaries?\n",
    "answer:-In a list, it checks for the value.\n",
    "In a dictionary, it checks for the key."
   ]
  },
  {
   "cell_type": "markdown",
   "id": "8eb5ecd5-25fc-4b72-a673-86eb8c7fe868",
   "metadata": {},
   "source": [
    "15)Can you modify elements in a tuple?\n",
    "answer:-No, tuples cannot be changed. That’s why they are immutable"
   ]
  },
  {
   "cell_type": "markdown",
   "id": "ad4b2c55-931b-4805-9873-09f2d1ac7d26",
   "metadata": {},
   "source": [
    "16)What is a nested dictionary? Example?\n",
    "answer:-A dictionary inside another dictionary.\n",
    "Example: {\"person\": {\"name\": \"John\", \"age\": 30}}"
   ]
  },
  {
   "cell_type": "markdown",
   "id": "db6604a5-d437-4572-9ae6-d1dacd4960e1",
   "metadata": {},
   "source": [
    "17)Time complexity of accessing dictionary elements?\n",
    "answer:-It’s usually O(1), which means very fast."
   ]
  },
  {
   "cell_type": "markdown",
   "id": "1ed39db2-cb0a-497f-b7e7-320da03d68a2",
   "metadata": {},
   "source": [
    "18)When are lists better than dictionaries?\n",
    "answer:-When you just need to store items in order and don’t need key-value pairs."
   ]
  },
  {
   "cell_type": "markdown",
   "id": "57a4b6b6-f4a1-4d3e-a4ea-4589f61d3f08",
   "metadata": {},
   "source": [
    "19)Why are dictionaries unordered?\n",
    "answer:-They are stored using hashes, not by position. So you can’t rely on the order."
   ]
  },
  {
   "cell_type": "markdown",
   "id": "d647f1bf-dc5c-42a2-ab40-b212d5a43fb2",
   "metadata": {},
   "source": [
    "20)List vs dictionary for data retrieval?\n",
    "answer:-Lists use index numbers to get values.\n",
    "Dictionaries use keys to get values, which is faster."
   ]
  },
  {
   "cell_type": "markdown",
   "id": "73b965e7-b122-4ef5-b769-ce9919499c16",
   "metadata": {},
   "source": [
    "pratical question and answer\n"
   ]
  },
  {
   "cell_type": "code",
   "execution_count": null,
   "id": "d34dae60-a668-4ef1-b6a6-3f8aa544e6b0",
   "metadata": {},
   "outputs": [],
   "source": [
    " #1)Write a code to create a string with your name and print it?\n",
    "print(\"harsh\")"
   ]
  },
  {
   "cell_type": "code",
   "execution_count": 30,
   "id": "246ebead-e9c4-4108-94c8-79e3fb48e04c",
   "metadata": {},
   "outputs": [
    {
     "name": "stdout",
     "output_type": "stream",
     "text": [
      "11\n"
     ]
    }
   ],
   "source": [
    "#2)Write a code to find the length of the string \"Hello World\"?\n",
    "print(len(\"hello world\"))"
   ]
  },
  {
   "cell_type": "code",
   "execution_count": 34,
   "id": "bd268d4b-c3b3-461a-a998-2be1569e9746",
   "metadata": {},
   "outputs": [
    {
     "name": "stdout",
     "output_type": "stream",
     "text": [
      "Pyt\n"
     ]
    }
   ],
   "source": [
    "#3)Write a code to slice the first 3 characters from the string \"Python Programming\"?\n",
    "print(\"Python Programming\"[0:3])"
   ]
  },
  {
   "cell_type": "code",
   "execution_count": 37,
   "id": "2fe13f8d-7629-47bb-944f-12ec3e54bc66",
   "metadata": {},
   "outputs": [
    {
     "name": "stdout",
     "output_type": "stream",
     "text": [
      "HELLO\n"
     ]
    }
   ],
   "source": [
    "#4)Write a code to convert the string \"hello\" to uppercase?\n",
    "print(\"hello\".upper())"
   ]
  },
  {
   "cell_type": "code",
   "execution_count": 2,
   "id": "1a81f279-3751-45ee-b1e9-3ccba38d5129",
   "metadata": {},
   "outputs": [
    {
     "data": {
      "text/plain": [
       "'i like orange'"
      ]
     },
     "execution_count": 2,
     "metadata": {},
     "output_type": "execute_result"
    }
   ],
   "source": [
    " #5)Write a code to replace the word \"apple\" with \"orange\" in the string \"I like apple\n",
    "sentence = \"I like apple\"\n",
    "print(sentence.replace(\"apple\", \"orange\"))"
   ]
  },
  {
   "cell_type": "code",
   "execution_count": 9,
   "id": "9295d75a-4c15-4975-bfce-ec9a41889e97",
   "metadata": {},
   "outputs": [
    {
     "name": "stdout",
     "output_type": "stream",
     "text": [
      "[1, 2, 3, 4, 5]\n"
     ]
    }
   ],
   "source": [
    "#6)Write a code to create a list with numbers 1 to 5 and print it?\n",
    "number=[1, 2, 3, 4, 5]\n",
    "print(number)"
   ]
  },
  {
   "cell_type": "code",
   "execution_count": 12,
   "id": "6cca68ca-6be4-4296-82e3-d4050fe7d0f2",
   "metadata": {},
   "outputs": [
    {
     "name": "stdout",
     "output_type": "stream",
     "text": [
      "[1, 2, 3, 4, 10]\n"
     ]
    }
   ],
   "source": [
    "#7)Write a code to append the number 10 to the list [1, 2, 3, 4]?\n",
    "num_list=[1,2,3,4]\n",
    "num_list.append(10)\n",
    "print(num_list)"
   ]
  },
  {
   "cell_type": "code",
   "execution_count": 13,
   "id": "7eec3351-1ebb-43d3-b37e-ce35255ef400",
   "metadata": {},
   "outputs": [
    {
     "name": "stdout",
     "output_type": "stream",
     "text": [
      "[1, 2, 4, 5]\n"
     ]
    }
   ],
   "source": [
    "#8)Write a code to remove the number 3 from the list [1, 2, 3, 4, 5]?\n",
    "l=[1,2,3,4,5]\n",
    "l.remove(3)\n",
    "print(l)"
   ]
  },
  {
   "cell_type": "code",
   "execution_count": 2,
   "id": "a9c3f712-487d-45ae-91d8-a9054e506bf7",
   "metadata": {},
   "outputs": [
    {
     "name": "stdout",
     "output_type": "stream",
     "text": [
      "b\n"
     ]
    }
   ],
   "source": [
    "#9)Write a code to access the second element in the list ['a', 'b', 'c', 'd']?\n",
    "l=[\"a\",\"b\",\"c\",\"d\"]\n",
    "print(l[1])"
   ]
  },
  {
   "cell_type": "code",
   "execution_count": 3,
   "id": "0d88e355-92ef-46a9-a564-edb0e8efe7a6",
   "metadata": {},
   "outputs": [
    {
     "name": "stdout",
     "output_type": "stream",
     "text": [
      "[50, 40, 30, 20, 10]\n"
     ]
    }
   ],
   "source": [
    "#10)Write a code to reverse the list [10, 20, 30, 40, 50]?\n",
    "number=[10,20,30,40,50]\n",
    "number.reverse()\n",
    "print(number)"
   ]
  },
  {
   "cell_type": "code",
   "execution_count": 4,
   "id": "0ab40d00-7986-4eba-9531-926621ce0c5f",
   "metadata": {},
   "outputs": [
    {
     "name": "stdout",
     "output_type": "stream",
     "text": [
      "(100, 200, 300)\n"
     ]
    }
   ],
   "source": [
    "#11)Write a code to create a tuple with the elements 100, 200, 300 and print it?\n",
    "t=(100,200,300)\n",
    "print(t)"
   ]
  },
  {
   "cell_type": "code",
   "execution_count": 4,
   "id": "e18bdc8d-4e9e-4c36-a48b-385cead4313b",
   "metadata": {},
   "outputs": [
    {
     "name": "stdout",
     "output_type": "stream",
     "text": [
      "yellow\n"
     ]
    }
   ],
   "source": [
    "#12)Write a code to access the second-to-last element of the tuple ('red', 'green', 'blue', 'yellow')?\n",
    "t=('red','green','yellow','blue')\n",
    "print(t[-2])"
   ]
  },
  {
   "cell_type": "code",
   "execution_count": 6,
   "id": "7a00633e-275d-4999-9ac1-e90af3e98a55",
   "metadata": {},
   "outputs": [
    {
     "name": "stdout",
     "output_type": "stream",
     "text": [
      "5\n"
     ]
    }
   ],
   "source": [
    " #13)Write a code to find the minimum number in the tuple (10, 20, 5, 15)?\n",
    "t=(10,20,5,15)\n",
    "print(min(t))"
   ]
  },
  {
   "cell_type": "code",
   "execution_count": 7,
   "id": "04ff229b-d4c7-4aa7-8d2e-45af28a6ea03",
   "metadata": {},
   "outputs": [
    {
     "name": "stdout",
     "output_type": "stream",
     "text": [
      "1\n"
     ]
    }
   ],
   "source": [
    "#14)Write a code to find the index of the element \"cat\" in the tuple ('dog', 'cat', 'rabbit')?\n",
    "animal=(\"dog\",\"cat\",\"rabbit\")\n",
    "print(animal.index(\"cat\"))\n"
   ]
  },
  {
   "cell_type": "code",
   "execution_count": 5,
   "id": "243d48c7-2b91-4afe-8700-6bac715b31d6",
   "metadata": {},
   "outputs": [
    {
     "name": "stdout",
     "output_type": "stream",
     "text": [
      "False\n"
     ]
    }
   ],
   "source": [
    "#15)Write a code to create a tuple containing three different fruits and check if \"kiwi\" is in it.?\n",
    "fruit=(\"apple\",\"mango\",\"watermelon\")\n",
    "print(\"kiwi\"in fruit)"
   ]
  },
  {
   "cell_type": "code",
   "execution_count": 6,
   "id": "26317e24-28f9-4f61-9f47-cf4da02f7a0c",
   "metadata": {},
   "outputs": [
    {
     "name": "stdout",
     "output_type": "stream",
     "text": [
      "('a', 'b', 'c')\n"
     ]
    }
   ],
   "source": [
    "#16)Write a code to create a set with the elements 'a', 'b', 'c' and print it?\n",
    "my_set=(\"a\",\"b\",\"c\")\n",
    "print(my_set)"
   ]
  },
  {
   "cell_type": "code",
   "execution_count": 10,
   "id": "de76193f-9b0e-4fb7-a9b7-8d7b1bc3a2ac",
   "metadata": {},
   "outputs": [
    {
     "name": "stdout",
     "output_type": "stream",
     "text": [
      "set()\n"
     ]
    }
   ],
   "source": [
    "#17)Write a code to clear all elements from the set {1, 2, 3, 4, 5}?\n",
    "s={1,2,3,4,5}\n",
    "s.clear()\n",
    "print(s)"
   ]
  },
  {
   "cell_type": "code",
   "execution_count": 11,
   "id": "fdf97cc5-9310-4715-b460-31b62f6e4f43",
   "metadata": {},
   "outputs": [
    {
     "name": "stdout",
     "output_type": "stream",
     "text": [
      "{1, 2, 3}\n"
     ]
    }
   ],
   "source": [
    "#18)Write a code to remove the element 4 from the set {1, 2, 3, 4}?\n",
    "set={1,2,3,4}\n",
    "set.remove(4)\n",
    "print(set)"
   ]
  },
  {
   "cell_type": "code",
   "execution_count": 12,
   "id": "c732d100-5413-4c84-a8b4-5e74b5d54e7c",
   "metadata": {},
   "outputs": [
    {
     "name": "stdout",
     "output_type": "stream",
     "text": [
      "{1, 2, 3, 4, 5}\n"
     ]
    }
   ],
   "source": [
    "#19)Write a code to find the union of two sets {1, 2, 3} and {3, 4, 5}?\n",
    "set1={1,2,3}\n",
    "set2={3,4,5}\n",
    "print(set1.union(set2))"
   ]
  },
  {
   "cell_type": "code",
   "execution_count": 13,
   "id": "1fa5727f-2419-48ce-9188-0b1c467325a4",
   "metadata": {},
   "outputs": [
    {
     "name": "stdout",
     "output_type": "stream",
     "text": [
      "{2, 3}\n"
     ]
    }
   ],
   "source": [
    "#20)Write a code to find the intersection of two sets {1, 2, 3} and {2, 3, 4}?\n",
    "set1={1,2,3}\n",
    "set2={2,3,4}\n",
    "print(set1.intersection(set2)) "
   ]
  },
  {
   "cell_type": "code",
   "execution_count": 14,
   "id": "8eb72050-b9df-4666-a957-e65f42382b86",
   "metadata": {},
   "outputs": [
    {
     "name": "stdout",
     "output_type": "stream",
     "text": [
      "{'name': 'harsh', 'age': 25, 'city': 'beawar'}\n"
     ]
    }
   ],
   "source": [
    "#21)Write a code to create a dictionary with the keys \"name\", \"age\", and \"city\", and print it?\n",
    "d={\"name\":\"harsh\",\"age\":25,\"city\":\"beawar\"}\n",
    "print(d)"
   ]
  },
  {
   "cell_type": "code",
   "execution_count": 15,
   "id": "9dc839d1-a2c1-4d11-b3e4-37dc5e368240",
   "metadata": {},
   "outputs": [
    {
     "name": "stdout",
     "output_type": "stream",
     "text": [
      "{'name': 'john', 'age': 25, 'country': 'usa'}\n"
     ]
    }
   ],
   "source": [
    "#22)Write a code to add a new key-value pair \"country\": \"USA\" to the dictionary {'name': 'John', 'age': 25}?\n",
    "d={\"name\":\"john\",\"age\":25}\n",
    "d[\"country\"]=\"usa\"\n",
    "print(d)"
   ]
  },
  {
   "cell_type": "code",
   "execution_count": 16,
   "id": "8b5fcc3c-f8b6-4e3a-bd4a-708da7ac1300",
   "metadata": {},
   "outputs": [
    {
     "name": "stdout",
     "output_type": "stream",
     "text": [
      "Alice\n"
     ]
    }
   ],
   "source": [
    "#23)Write a code to access the value associated with the key \"name\" in the dictionary {'name': 'Alice', 'age': 30}.?\n",
    "d={'name': 'Alice', 'age': 30}\n",
    "print(d[\"name\"])"
   ]
  },
  {
   "cell_type": "code",
   "execution_count": 17,
   "id": "f4d12458-7400-4021-9ce7-8a186635d1d8",
   "metadata": {},
   "outputs": [
    {
     "name": "stdout",
     "output_type": "stream",
     "text": [
      "{'name': 'Bob', 'city': 'New York'}\n"
     ]
    }
   ],
   "source": [
    "#24) Write a code to remove the key \"age\" from the dictionary {'name': 'Bob', 'age': 22, 'city': 'New York'}?\n",
    "d= {'name': 'Bob', 'age': 22, 'city': 'New York'}\n",
    "del d[\"age\"]\n",
    "print(d)"
   ]
  },
  {
   "cell_type": "code",
   "execution_count": 18,
   "id": "852ff015-8f22-4291-91be-fec4a6d28bb0",
   "metadata": {},
   "outputs": [
    {
     "name": "stdout",
     "output_type": "stream",
     "text": [
      "True\n"
     ]
    }
   ],
   "source": [
    "#25) Write a code to check if the key \"city\" exists in the dictionary {'name': 'Alice', 'city': 'Paris'}?\n",
    "d={'name': 'Alice', 'city': 'Paris'}\n",
    "print(\"city\" in d)"
   ]
  },
  {
   "cell_type": "code",
   "execution_count": 19,
   "id": "3ab3803a-fb47-4323-94d5-907f57eb410d",
   "metadata": {},
   "outputs": [
    {
     "name": "stdout",
     "output_type": "stream",
     "text": [
      "[1, 2] (3, 4) {'a': 5}\n"
     ]
    }
   ],
   "source": [
    "#26)Write a code to create a list, a tuple, and a dictionary, and print them all?\n",
    "l=[1,2]\n",
    "t=(3,4)\n",
    "d={\"a\":5}\n",
    "print(l,t,d)"
   ]
  },
  {
   "cell_type": "code",
   "execution_count": 35,
   "id": "04d2a780-ca2d-42d9-9c09-421fd9796ff1",
   "metadata": {},
   "outputs": [
    {
     "name": "stdout",
     "output_type": "stream",
     "text": [
      "[27, 35, 39, 57, 68]\n"
     ]
    }
   ],
   "source": [
    "#27)Write a code to create a list of 5 random numbers between 1 and 100, sort it in ascending order, and print the  result.(replaced)?\n",
    "l = random.sample(range(1, 101), 5)  \n",
    "l.sort()  \n",
    "print(l)"
   ]
  },
  {
   "cell_type": "code",
   "execution_count": 21,
   "id": "bab3f23c-5f76-4d56-a584-4792d265dad4",
   "metadata": {},
   "outputs": [
    {
     "name": "stdout",
     "output_type": "stream",
     "text": [
      "date\n"
     ]
    }
   ],
   "source": [
    "#28) Write a code to create a list with strings and print the element at the third index?\n",
    "l = [\"apple\", \"banana\", \"cherry\", \"date\"]\n",
    "print(l[3])"
   ]
  },
  {
   "cell_type": "code",
   "execution_count": 18,
   "id": "c5c00a8c-e233-4be4-a447-71d38ff5642b",
   "metadata": {},
   "outputs": [
    {
     "name": "stdout",
     "output_type": "stream",
     "text": [
      "{'a': 1, 'b': 2}\n"
     ]
    }
   ],
   "source": [
    "#29) Write a code to combine two dictionaries into one and print the result?\n",
    "d1 = {\"a\": 1} \n",
    "d2 = {\"b\": 2}\n",
    "d1.update(d2)\n",
    "print(d1)"
   ]
  },
  {
   "cell_type": "code",
   "execution_count": 16,
   "id": "37594574-18aa-49d5-9642-32bc02aaae58",
   "metadata": {},
   "outputs": [
    {
     "name": "stdout",
     "output_type": "stream",
     "text": [
      "{'jay', 'apple', 'harsh'}\n"
     ]
    }
   ],
   "source": [
    "#30) write a code to convert list of string to set?\n",
    "string_list=[\"apple\",\"harsh\",\"jay\",\"apple\"]\n",
    "print(set(string_list))"
   ]
  },
  {
   "cell_type": "markdown",
   "id": "62e445d4-dfd5-4a48-b0e3-b6900a6d34ba",
   "metadata": {},
   "source": [
    "                            thank you complete"
   ]
  }
 ],
 "metadata": {
  "kernelspec": {
   "display_name": "Python 3 (ipykernel)",
   "language": "python",
   "name": "python3"
  },
  "language_info": {
   "codemirror_mode": {
    "name": "ipython",
    "version": 3
   },
   "file_extension": ".py",
   "mimetype": "text/x-python",
   "name": "python",
   "nbconvert_exporter": "python",
   "pygments_lexer": "ipython3",
   "version": "3.12.7"
  }
 },
 "nbformat": 4,
 "nbformat_minor": 5
}
